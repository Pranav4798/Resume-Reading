{
 "cells": [
  {
   "cell_type": "markdown",
   "metadata": {},
   "source": [
    "### PRANAV BHAGAT"
   ]
  },
  {
   "cell_type": "code",
   "execution_count": 1,
   "metadata": {},
   "outputs": [],
   "source": [
    "import pandas as pd"
   ]
  },
  {
   "cell_type": "code",
   "execution_count": 2,
   "metadata": {},
   "outputs": [],
   "source": [
    "desc = pd.read_csv('ResumesName.csv')"
   ]
  },
  {
   "cell_type": "code",
   "execution_count": 3,
   "metadata": {},
   "outputs": [],
   "source": [
    "desc = desc.iloc[2:]\n",
    "desc = desc.reset_index(drop=True)"
   ]
  },
  {
   "cell_type": "code",
   "execution_count": 4,
   "metadata": {},
   "outputs": [],
   "source": [
    "new_header = desc.iloc[0] \n",
    "desc = desc[1:] \n",
    "desc.columns = new_header"
   ]
  },
  {
   "cell_type": "code",
   "execution_count": 5,
   "metadata": {},
   "outputs": [
    {
     "data": {
      "text/html": [
       "<div>\n",
       "<style scoped>\n",
       "    .dataframe tbody tr th:only-of-type {\n",
       "        vertical-align: middle;\n",
       "    }\n",
       "\n",
       "    .dataframe tbody tr th {\n",
       "        vertical-align: top;\n",
       "    }\n",
       "\n",
       "    .dataframe thead th {\n",
       "        text-align: right;\n",
       "    }\n",
       "</style>\n",
       "<table border=\"1\" class=\"dataframe\">\n",
       "  <thead>\n",
       "    <tr style=\"text-align: right;\">\n",
       "      <th></th>\n",
       "      <th>Name</th>\n",
       "      <th>Resume</th>\n",
       "    </tr>\n",
       "  </thead>\n",
       "  <tbody>\n",
       "    <tr>\n",
       "      <th>1</th>\n",
       "      <td>Barbara Gordon</td>\n",
       "      <td>Barbara1.txt</td>\n",
       "    </tr>\n",
       "    <tr>\n",
       "      <th>2</th>\n",
       "      <td>Basil Karlo</td>\n",
       "      <td>basil1.txt</td>\n",
       "    </tr>\n",
       "    <tr>\n",
       "      <th>3</th>\n",
       "      <td>Floyd Lawton</td>\n",
       "      <td>Floyd1.txt</td>\n",
       "    </tr>\n",
       "    <tr>\n",
       "      <th>4</th>\n",
       "      <td>Garfield Lynns</td>\n",
       "      <td>garfield1.txt</td>\n",
       "    </tr>\n",
       "    <tr>\n",
       "      <th>5</th>\n",
       "      <td>Harvey Dent</td>\n",
       "      <td>Harvey1.txt</td>\n",
       "    </tr>\n",
       "    <tr>\n",
       "      <th>6</th>\n",
       "      <td>Hugo Strange</td>\n",
       "      <td>Hugo1.txt</td>\n",
       "    </tr>\n",
       "    <tr>\n",
       "      <th>7</th>\n",
       "      <td>Jonathan Crane</td>\n",
       "      <td>Jonathan1.txt</td>\n",
       "    </tr>\n",
       "    <tr>\n",
       "      <th>8</th>\n",
       "      <td>Lester Buchinsky</td>\n",
       "      <td>lester1.txt</td>\n",
       "    </tr>\n",
       "    <tr>\n",
       "      <th>9</th>\n",
       "      <td>Nora Fries</td>\n",
       "      <td>nora1.txt</td>\n",
       "    </tr>\n",
       "    <tr>\n",
       "      <th>10</th>\n",
       "      <td>Pamela Isley</td>\n",
       "      <td>pamela1.txt</td>\n",
       "    </tr>\n",
       "    <tr>\n",
       "      <th>11</th>\n",
       "      <td>Roman Sionis</td>\n",
       "      <td>Roman1.txt</td>\n",
       "    </tr>\n",
       "    <tr>\n",
       "      <th>12</th>\n",
       "      <td>Selina Kyle</td>\n",
       "      <td>Selina1.txt</td>\n",
       "    </tr>\n",
       "    <tr>\n",
       "      <th>13</th>\n",
       "      <td>Thomas Eliott</td>\n",
       "      <td>thomas1.txt</td>\n",
       "    </tr>\n",
       "    <tr>\n",
       "      <th>14</th>\n",
       "      <td>Waylon Jones</td>\n",
       "      <td>waylon1.txt</td>\n",
       "    </tr>\n",
       "    <tr>\n",
       "      <th>15</th>\n",
       "      <td>Alberto Falcone</td>\n",
       "      <td>Alberto1.txt</td>\n",
       "    </tr>\n",
       "  </tbody>\n",
       "</table>\n",
       "</div>"
      ],
      "text/plain": [
       "0               Name         Resume\n",
       "1     Barbara Gordon   Barbara1.txt\n",
       "2        Basil Karlo     basil1.txt\n",
       "3       Floyd Lawton     Floyd1.txt\n",
       "4     Garfield Lynns  garfield1.txt\n",
       "5        Harvey Dent    Harvey1.txt\n",
       "6       Hugo Strange      Hugo1.txt\n",
       "7     Jonathan Crane  Jonathan1.txt\n",
       "8   Lester Buchinsky    lester1.txt\n",
       "9         Nora Fries      nora1.txt\n",
       "10      Pamela Isley    pamela1.txt\n",
       "11      Roman Sionis     Roman1.txt\n",
       "12       Selina Kyle    Selina1.txt\n",
       "13     Thomas Eliott    thomas1.txt\n",
       "14      Waylon Jones    waylon1.txt\n",
       "15   Alberto Falcone   Alberto1.txt"
      ]
     },
     "execution_count": 5,
     "metadata": {},
     "output_type": "execute_result"
    }
   ],
   "source": [
    "desc"
   ]
  },
  {
   "cell_type": "code",
   "execution_count": 6,
   "metadata": {},
   "outputs": [
    {
     "name": "stdout",
     "output_type": "stream",
     "text": [
      "Microsoft is hiring !\n",
      "\n",
      "\n",
      "\n",
      "We are on the lookout for new candidates for our data science team.\n",
      "\n",
      "Role : Data Scientist\n",
      "\n",
      "Description : \n",
      "\n",
      "1. Candidates should be well versed in machine learning patters along with neural network algorithms.\n",
      "\n",
      "2. Candidates should have a degree in engineering or equaivalent STEM fields.\n",
      "\n",
      "3. Candidates should know the following programming languages,\n",
      "\n",
      "\tR, Python, Javascript, Java, SQL\n",
      "\n",
      "4. Candidates should have some work experience.\n",
      "\n",
      "5. Candidates should also be knowing the following subjects,\n",
      "\n",
      "\tMachine Learning, Linear Algebra, Relational Database, Statistics.\n",
      "\n",
      "\n",
      "\n"
     ]
    }
   ],
   "source": [
    "with open(\"JobDesc.txt\",\"r\") as jd :\n",
    "    for line in jd:\n",
    "        print(line)"
   ]
  },
  {
   "cell_type": "code",
   "execution_count": 7,
   "metadata": {},
   "outputs": [
    {
     "data": {
      "text/plain": [
       "['Microsoft is hiring !\\n\\nWe are on the lookout for new candidates for our data science team.\\nRole : Data Scientist\\nDescription : \\n1. Candidates should be well versed in machine learning patters along with neural network algorithms.\\n2. Candidates should have a degree in engineering or equaivalent STEM fields.\\n3. Candidates should know the following programming languages',\n",
       " '\\n\\tR',\n",
       " ' Python',\n",
       " ' Javascript',\n",
       " ' Java',\n",
       " ' SQL\\n4. Candidates should have some work experience.\\n5. Candidates should also be knowing the following subjects',\n",
       " '\\n\\tMachine Learning',\n",
       " ' Linear Algebra',\n",
       " ' Relational Database',\n",
       " ' Statistics.\\n\\n']"
      ]
     },
     "execution_count": 7,
     "metadata": {},
     "output_type": "execute_result"
    }
   ],
   "source": [
    "with open(\"JobDesc.txt\",'r') as jf:     \n",
    "    Str = jf.read() \n",
    "Job = Str.split(',')\n",
    "Job"
   ]
  },
  {
   "cell_type": "code",
   "execution_count": 8,
   "metadata": {},
   "outputs": [],
   "source": [
    "rL=desc['Resume']"
   ]
  },
  {
   "cell_type": "code",
   "execution_count": 9,
   "metadata": {},
   "outputs": [
    {
     "name": "stdout",
     "output_type": "stream",
     "text": [
      "[' Python', ' Javascript', ' Java', ' Linear Algebra', ' Relational Database']\n",
      "[' Python', ' Javascript', ' Java', ' Relational Database']\n",
      "[' Javascript', ' Java']\n",
      "[' Java', ' Linear Algebra']\n",
      "[' Python', ' Java', ' Relational Database']\n",
      "[' Python', ' Java']\n",
      "[' Python', ' Java', ' Linear Algebra']\n",
      "[' Java']\n",
      "[' Java']\n",
      "[' Python', ' Java', ' Linear Algebra']\n",
      "[' Python', ' Java', ' Linear Algebra']\n",
      "[' Python', ' Java', ' Linear Algebra', ' Relational Database']\n",
      "[' Java']\n",
      "[' Java']\n",
      "[]\n",
      "Barbara1.txt 5\n",
      "basil1.txt 4\n",
      "Floyd1.txt 2\n",
      "garfield1.txt 2\n",
      "Harvey1.txt 3\n",
      "Hugo1.txt 2\n",
      "Jonathan1.txt 3\n",
      "lester1.txt 1\n",
      "nora1.txt 1\n",
      "pamela1.txt 3\n",
      "Roman1.txt 3\n",
      "Selina1.txt 4\n",
      "thomas1.txt 1\n",
      "waylon1.txt 1\n",
      "Alberto1.txt 0\n"
     ]
    },
    {
     "data": {
      "text/plain": [
       "dict_items([('Barbara1.txt', 5), ('basil1.txt', 4), ('Floyd1.txt', 2), ('garfield1.txt', 2), ('Harvey1.txt', 3), ('Hugo1.txt', 2), ('Jonathan1.txt', 3), ('lester1.txt', 1), ('nora1.txt', 1), ('pamela1.txt', 3), ('Roman1.txt', 3), ('Selina1.txt', 4), ('thomas1.txt', 1), ('waylon1.txt', 1), ('Alberto1.txt', 0)])"
      ]
     },
     "execution_count": 9,
     "metadata": {},
     "output_type": "execute_result"
    }
   ],
   "source": [
    "candic={}\n",
    "for i in rL:\n",
    "    with open(i,'r') as res_file: \n",
    "        dic=[]\n",
    "        Str = res_file.read()\n",
    "        for j in Job:\n",
    "            if j in Str:\n",
    "                dic.append(j)\n",
    "        candic.update({i:len(dic)})\n",
    "        print(str(dic))\n",
    "for x,y in candic.items():\n",
    "    print(x,y)\n",
    "candic.items()"
   ]
  },
  {
   "cell_type": "code",
   "execution_count": 10,
   "metadata": {},
   "outputs": [
    {
     "name": "stdout",
     "output_type": "stream",
     "text": [
      "<built-in method items of dict object at 0x0000026FF10F2558>\n"
     ]
    }
   ],
   "source": [
    "print(candic.items)"
   ]
  },
  {
   "cell_type": "code",
   "execution_count": 11,
   "metadata": {},
   "outputs": [
    {
     "name": "stdout",
     "output_type": "stream",
     "text": [
      "<method 'items' of 'dict' objects>\n"
     ]
    }
   ],
   "source": [
    "print(dict.items)"
   ]
  },
  {
   "cell_type": "code",
   "execution_count": 12,
   "metadata": {},
   "outputs": [
    {
     "name": "stdout",
     "output_type": "stream",
     "text": [
      "printable string:[]\n"
     ]
    }
   ],
   "source": [
    "print(\"printable string:%s\" % str(dic))"
   ]
  },
  {
   "cell_type": "code",
   "execution_count": 13,
   "metadata": {},
   "outputs": [
    {
     "data": {
      "text/plain": [
       "{'Barbara1.txt': 5,\n",
       " 'basil1.txt': 4,\n",
       " 'Selina1.txt': 4,\n",
       " 'Harvey1.txt': 3,\n",
       " 'Jonathan1.txt': 3,\n",
       " 'pamela1.txt': 3,\n",
       " 'Roman1.txt': 3,\n",
       " 'Floyd1.txt': 2,\n",
       " 'garfield1.txt': 2,\n",
       " 'Hugo1.txt': 2,\n",
       " 'lester1.txt': 1,\n",
       " 'nora1.txt': 1,\n",
       " 'thomas1.txt': 1,\n",
       " 'waylon1.txt': 1,\n",
       " 'Alberto1.txt': 0}"
      ]
     },
     "execution_count": 13,
     "metadata": {},
     "output_type": "execute_result"
    }
   ],
   "source": [
    "x={k: v for k, v in sorted(candic.items(), key=lambda item: item[1],reverse=True)}\n",
    "x"
   ]
  },
  {
   "cell_type": "code",
   "execution_count": 14,
   "metadata": {},
   "outputs": [],
   "source": [
    "count=0\n",
    "with open('ToInterview.csv','w') as selected:     \n",
    "    selected.write(\"Rank , Candidates\\n\")\n",
    "    for c,s in x.items():\n",
    "        if count>4:\n",
    "            break\n",
    "        selected.write(f\"{c} , {s}\\n\")\n",
    "        count+=1\n",
    "selected.close()"
   ]
  }
 ],
 "metadata": {
  "kernelspec": {
   "display_name": "Python 3",
   "language": "python",
   "name": "python3"
  },
  "language_info": {
   "codemirror_mode": {
    "name": "ipython",
    "version": 3
   },
   "file_extension": ".py",
   "mimetype": "text/x-python",
   "name": "python",
   "nbconvert_exporter": "python",
   "pygments_lexer": "ipython3",
   "version": "3.7.3"
  }
 },
 "nbformat": 4,
 "nbformat_minor": 2
}
